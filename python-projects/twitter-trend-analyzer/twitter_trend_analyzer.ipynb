{
 "cells": [
  {
   "cell_type": "code",
   "execution_count": null,
   "id": "e1d7b178",
   "metadata": {},
   "outputs": [],
   "source": [
    "\n",
    "# 📌 STEP 1: Import Libraries\n",
    "import tweepy\n",
    "import pandas as pd\n",
    "import matplotlib.pyplot as plt\n",
    "import seaborn as sns\n",
    "from textblob import TextBlob\n",
    "import re\n",
    "    "
   ]
  },
  {
   "cell_type": "code",
   "execution_count": null,
   "id": "876f4267",
   "metadata": {},
   "outputs": [],
   "source": [
    "\n",
    "# 📌 STEP 2: Twitter API Credentials (replace with your keys)\n",
    "consumer_key = 'YOUR_CONSUMER_KEY'\n",
    "consumer_secret = 'YOUR_CONSUMER_SECRET'\n",
    "access_token = 'YOUR_ACCESS_TOKEN'\n",
    "access_token_secret = 'YOUR_ACCESS_SECRET'\n",
    "\n",
    "auth = tweepy.OAuth1UserHandler(consumer_key, consumer_secret, access_token, access_token_secret)\n",
    "api = tweepy.API(auth)\n",
    "    "
   ]
  },
  {
   "cell_type": "code",
   "execution_count": null,
   "id": "31510dec",
   "metadata": {},
   "outputs": [],
   "source": [
    "\n",
    "# 📌 STEP 3: Collect Tweets\n",
    "query = \"ChatGPT\"\n",
    "tweets = tweepy.Cursor(api.search_tweets, q=query, lang='en', tweet_mode='extended').items(200)\n",
    "\n",
    "data = []\n",
    "for tweet in tweets:\n",
    "    data.append(tweet.full_text)\n",
    "\n",
    "df = pd.DataFrame(data, columns=['Tweet'])\n",
    "df.head()\n",
    "    "
   ]
  },
  {
   "cell_type": "code",
   "execution_count": null,
   "id": "b6586de0",
   "metadata": {},
   "outputs": [],
   "source": [
    "\n",
    "# 📌 STEP 4: Clean Tweets\n",
    "def clean_tweet(tweet):\n",
    "    tweet = re.sub(r'@[A-Za-z0-9_]+', '', tweet)\n",
    "    tweet = re.sub(r'#', '', tweet)\n",
    "    tweet = re.sub(r'RT[\\s]+', '', tweet)\n",
    "    tweet = re.sub(r'https?:\\/\\/\\S+', '', tweet)\n",
    "    return tweet\n",
    "\n",
    "df['Cleaned_Tweet'] = df['Tweet'].apply(clean_tweet)\n",
    "    "
   ]
  },
  {
   "cell_type": "code",
   "execution_count": null,
   "id": "22303292",
   "metadata": {},
   "outputs": [],
   "source": [
    "\n",
    "# 📌 STEP 5: Sentiment Analysis\n",
    "def get_sentiment(tweet):\n",
    "    analysis = TextBlob(tweet)\n",
    "    if analysis.sentiment.polarity > 0:\n",
    "        return 'Positive'\n",
    "    elif analysis.sentiment.polarity < 0:\n",
    "        return 'Negative'\n",
    "    else:\n",
    "        return 'Neutral'\n",
    "\n",
    "df['Sentiment'] = df['Cleaned_Tweet'].apply(get_sentiment)\n",
    "    "
   ]
  },
  {
   "cell_type": "code",
   "execution_count": null,
   "id": "5e927ff0",
   "metadata": {},
   "outputs": [],
   "source": [
    "\n",
    "# 📌 STEP 6: Visualize Sentiment\n",
    "sns.set_style(\"whitegrid\")\n",
    "plt.figure(figsize=(6,4))\n",
    "sns.countplot(x='Sentiment', data=df, palette='Set2')\n",
    "plt.title('Sentiment Analysis of Tweets')\n",
    "plt.xlabel('Sentiment')\n",
    "plt.ylabel('Count')\n",
    "plt.savefig('sample_output.png')\n",
    "plt.show()\n",
    "    "
   ]
  }
 ],
 "metadata": {},
 "nbformat": 4,
 "nbformat_minor": 5
}
